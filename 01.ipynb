{
 "cells": [
  {
   "cell_type": "code",
   "execution_count": 5,
   "id": "b0fd069f-8058-4e49-8bd5-8c13234584ce",
   "metadata": {},
   "outputs": [],
   "source": [
    "import os,cv2,torch,torchvision\n",
    "from detectron2 import model_zoo\n",
    "from detectron2.data import DatasetCatalog,MetadataCatalog\n",
    "from detectron2.config import get_cfg\n",
    "from detectron2.engine import DefaultPredictor,DefaultTrainer\n",
    "from detectron2.utils.visualizer import Visualizer,BoxMode\n",
    "import pandas as pd\n",
    "import numpy as np"
   ]
  },
  {
   "cell_type": "code",
   "execution_count": 6,
   "id": "5f6d71c2-e7c2-4e2a-b6e9-3f4a812f385f",
   "metadata": {},
   "outputs": [],
   "source": [
    "import matplotlib.pyplot as plt"
   ]
  },
  {
   "cell_type": "code",
   "execution_count": 7,
   "id": "6d784936-7a6d-43fd-aa82-a85ffe58acac",
   "metadata": {},
   "outputs": [],
   "source": [
    "from detectron2.evaluation import COCOEvaluator,DatasetEvaluator"
   ]
  },
  {
   "cell_type": "code",
   "execution_count": 8,
   "id": "a6c05d49-9e3d-43f8-ba8f-606dadab2796",
   "metadata": {},
   "outputs": [],
   "source": [
    "data = pd.read_csv('./labels_train.csv').append(pd.read_csv('./labels_trainval.csv')).append(pd.read_csv('./labels_val.csv'))"
   ]
  },
  {
   "cell_type": "code",
   "execution_count": null,
   "id": "37bcba9b-1be6-4807-856b-e3545cbe181a",
   "metadata": {},
   "outputs": [],
   "source": []
  }
 ],
 "metadata": {
  "kernelspec": {
   "display_name": "Python 3.7.3 64-bit ('base': conda)",
   "language": "python",
   "name": "python373jvsc74a57bd0210f9608a45c0278a93c9e0b10db32a427986ab48cfc0d20c139811eb78c4bbc"
  },
  "language_info": {
   "codemirror_mode": {
    "name": "ipython",
    "version": 3
   },
   "file_extension": ".py",
   "mimetype": "text/x-python",
   "name": "python",
   "nbconvert_exporter": "python",
   "pygments_lexer": "ipython3",
   "version": "3.7.7"
  }
 },
 "nbformat": 4,
 "nbformat_minor": 5
}
